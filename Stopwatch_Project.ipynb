{
  "nbformat": 4,
  "nbformat_minor": 0,
  "metadata": {
    "colab": {
      "name": "Stopwatch Project.ipynb",
      "provenance": [],
      "collapsed_sections": [],
      "authorship_tag": "ABX9TyNxhX0FnkF+ye2MWZO0twMt",
      "include_colab_link": true
    },
    "kernelspec": {
      "name": "python3",
      "display_name": "Python 3"
    }
  },
  "cells": [
    {
      "cell_type": "markdown",
      "metadata": {
        "id": "view-in-github",
        "colab_type": "text"
      },
      "source": [
        "<a href=\"https://colab.research.google.com/github/MaheswariKumar/StopWatch-Project/blob/main/Stopwatch_Project.ipynb\" target=\"_parent\"><img src=\"https://colab.research.google.com/assets/colab-badge.svg\" alt=\"Open In Colab\"/></a>"
      ]
    },
    {
      "cell_type": "markdown",
      "metadata": {
        "id": "OsaFRqgAUYzy"
      },
      "source": [
        "# **StopWatch Project**"
      ]
    },
    {
      "cell_type": "code",
      "metadata": {
        "colab": {
          "base_uri": "https://localhost:8080/"
        },
        "id": "oiQ1GA62UT3n",
        "outputId": "b1b97eb8-6f62-4640-cc85-9bad5a7fb2cf"
      },
      "source": [
        "import time\r\n",
        "start =input(\"Enter the ENTER key to start\")\r\n",
        "start = time.time()\r\n",
        "print(\"started\")\r\n",
        " \r\n",
        "end = input(\"Enter the ENTER key to stop\")\r\n",
        "end = time.time()\r\n",
        "print(\"stopped\")\r\n",
        "\r\n",
        "print(\"Total time: \", round(end-start), \"seconds\")"
      ],
      "execution_count": null,
      "outputs": [
        {
          "output_type": "stream",
          "text": [
            "Enter the ENTER key to start\n",
            "started\n",
            "Enter the ENTER key to stop\n",
            "stopped\n",
            "Total time:  11 seconds\n"
          ],
          "name": "stdout"
        }
      ]
    },
    {
      "cell_type": "code",
      "metadata": {
        "id": "niJ3OtTHUpex"
      },
      "source": [
        ""
      ],
      "execution_count": null,
      "outputs": []
    }
  ]
}